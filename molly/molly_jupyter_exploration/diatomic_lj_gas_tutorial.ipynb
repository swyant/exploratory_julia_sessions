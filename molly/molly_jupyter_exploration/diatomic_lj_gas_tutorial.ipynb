{
 "cells": [
  {
   "cell_type": "code",
   "execution_count": 1,
   "metadata": {},
   "outputs": [
    {
     "name": "stderr",
     "output_type": "stream",
     "text": [
      "\u001b[32m\u001b[1m  Activating\u001b[22m\u001b[39m project at `~/cesmix/exploratory/public/molly/molly_jupyter_exploration`\n"
     ]
    },
    {
     "name": "stdout",
     "output_type": "stream",
     "text": [
      "\u001b[32m\u001b[1mStatus\u001b[22m\u001b[39m `~/cesmix/exploratory/public/molly/molly_jupyter_exploration/Project.toml`\n",
      " \u001b[90m [e9467ef8] \u001b[39mGLMakie v0.8.2\n",
      " \u001b[90m [7073ff75] \u001b[39mIJulia v1.24.0\n",
      " \u001b[90m [aa0f7f06] \u001b[39mMolly v0.14.3\n"
     ]
    }
   ],
   "source": [
    "import Pkg;\n",
    "Pkg.activate(\".\")\n",
    "Pkg.status()"
   ]
  },
  {
   "cell_type": "code",
   "execution_count": 3,
   "metadata": {},
   "outputs": [],
   "source": [
    "using Molly\n",
    "using GLMakie"
   ]
  },
  {
   "cell_type": "code",
   "execution_count": 29,
   "metadata": {},
   "outputs": [
    {
     "data": {
      "text/plain": [
       "200-element Vector{Atom{Float64, Quantity{Float64, 𝐌, Unitful.FreeUnits{(u,), 𝐌, nothing}}, Quantity{Float64, 𝐋, Unitful.FreeUnits{(nm,), 𝐋, nothing}}, Quantity{Float64, 𝐋² 𝐌 𝐍⁻¹ 𝐓⁻², Unitful.FreeUnits{(kJ, mol⁻¹), 𝐋² 𝐌 𝐍⁻¹ 𝐓⁻², nothing}}}}:\n",
       " Atom with index 1, charge=0.0, mass=10.0 u, σ=0.3 nm, ϵ=0.2 kJ mol⁻¹\n",
       " Atom with index 1, charge=0.0, mass=10.0 u, σ=0.3 nm, ϵ=0.2 kJ mol⁻¹\n",
       " Atom with index 1, charge=0.0, mass=10.0 u, σ=0.3 nm, ϵ=0.2 kJ mol⁻¹\n",
       " Atom with index 1, charge=0.0, mass=10.0 u, σ=0.3 nm, ϵ=0.2 kJ mol⁻¹\n",
       " Atom with index 1, charge=0.0, mass=10.0 u, σ=0.3 nm, ϵ=0.2 kJ mol⁻¹\n",
       " Atom with index 1, charge=0.0, mass=10.0 u, σ=0.3 nm, ϵ=0.2 kJ mol⁻¹\n",
       " Atom with index 1, charge=0.0, mass=10.0 u, σ=0.3 nm, ϵ=0.2 kJ mol⁻¹\n",
       " Atom with index 1, charge=0.0, mass=10.0 u, σ=0.3 nm, ϵ=0.2 kJ mol⁻¹\n",
       " Atom with index 1, charge=0.0, mass=10.0 u, σ=0.3 nm, ϵ=0.2 kJ mol⁻¹\n",
       " Atom with index 1, charge=0.0, mass=10.0 u, σ=0.3 nm, ϵ=0.2 kJ mol⁻¹\n",
       " ⋮\n",
       " Atom with index 1, charge=0.0, mass=10.0 u, σ=0.3 nm, ϵ=0.2 kJ mol⁻¹\n",
       " Atom with index 1, charge=0.0, mass=10.0 u, σ=0.3 nm, ϵ=0.2 kJ mol⁻¹\n",
       " Atom with index 1, charge=0.0, mass=10.0 u, σ=0.3 nm, ϵ=0.2 kJ mol⁻¹\n",
       " Atom with index 1, charge=0.0, mass=10.0 u, σ=0.3 nm, ϵ=0.2 kJ mol⁻¹\n",
       " Atom with index 1, charge=0.0, mass=10.0 u, σ=0.3 nm, ϵ=0.2 kJ mol⁻¹\n",
       " Atom with index 1, charge=0.0, mass=10.0 u, σ=0.3 nm, ϵ=0.2 kJ mol⁻¹\n",
       " Atom with index 1, charge=0.0, mass=10.0 u, σ=0.3 nm, ϵ=0.2 kJ mol⁻¹\n",
       " Atom with index 1, charge=0.0, mass=10.0 u, σ=0.3 nm, ϵ=0.2 kJ mol⁻¹\n",
       " Atom with index 1, charge=0.0, mass=10.0 u, σ=0.3 nm, ϵ=0.2 kJ mol⁻¹"
      ]
     },
     "metadata": {},
     "output_type": "display_data"
    }
   ],
   "source": [
    "n_atoms = 200\n",
    "atom_mass = 10.0u\"u\"\n",
    "atoms = [Atom(mass=atom_mass, σ=0.3u\"nm\", ϵ=0.2u\"kJ * mol^-1\") for i in 1:n_atoms]"
   ]
  },
  {
   "cell_type": "code",
   "execution_count": 30,
   "metadata": {},
   "outputs": [],
   "source": [
    "boundary = CubicBoundary(4.0u\"nm\", 4.0u\"nm\", 4.0u\"nm\")\n",
    "\n",
    "coords = place_atoms(n_atoms ÷ 2, boundary; min_dist=0.3u\"nm\")\n",
    "for i in 1:length(coords)\n",
    "    push!(coords, coords[i] .+ [0.1,0.0,0.0]u\"nm\") # do you really need the vectorized \".+\" instead of \"+\"\n",
    "end"
   ]
  },
  {
   "cell_type": "code",
   "execution_count": 31,
   "metadata": {},
   "outputs": [
    {
     "data": {
      "text/plain": [
       "3-element SVector{3, Quantity{Float64, 𝐋, Unitful.FreeUnits{(nm,), 𝐋, nothing}}} with indices SOneTo(3):\n",
       " 3.3712469522657615 nm\n",
       "  2.602219192712458 nm\n",
       " 2.3573956197745556 nm"
      ]
     },
     "metadata": {},
     "output_type": "display_data"
    }
   ],
   "source": [
    "test_coord = coords[10]"
   ]
  },
  {
   "cell_type": "code",
   "execution_count": 32,
   "metadata": {},
   "outputs": [
    {
     "data": {
      "text/plain": [
       "3-element SizedVector{3, Quantity{Float64, 𝐋, Unitful.FreeUnits{(nm,), 𝐋, nothing}}, Vector{Quantity{Float64, 𝐋, Unitful.FreeUnits{(nm,), 𝐋, nothing}}}} with indices SOneTo(3):\n",
       " 3.4712469522657616 nm\n",
       "  2.602219192712458 nm\n",
       " 2.3573956197745556 nm"
      ]
     },
     "metadata": {},
     "output_type": "display_data"
    }
   ],
   "source": [
    "test_coord .+ [0.1,0.0,0.0]u\"nm\""
   ]
  },
  {
   "cell_type": "code",
   "execution_count": 33,
   "metadata": {},
   "outputs": [
    {
     "data": {
      "text/plain": [
       "3-element SVector{3, Quantity{Float64, 𝐋, Unitful.FreeUnits{(nm,), 𝐋, nothing}}} with indices SOneTo(3):\n",
       " 3.4712469522657616 nm\n",
       "  2.602219192712458 nm\n",
       " 2.3573956197745556 nm"
      ]
     },
     "metadata": {},
     "output_type": "display_data"
    }
   ],
   "source": [
    "test_coord + [0.1,0.0,0.0]u\"nm\""
   ]
  },
  {
   "cell_type": "code",
   "execution_count": 34,
   "metadata": {},
   "outputs": [
    {
     "data": {
      "text/plain": [
       "200-element Vector{SVector{3, Quantity{Float64, 𝐋 𝐓⁻¹, Unitful.FreeUnits{(nm, ps⁻¹), 𝐋 𝐓⁻¹, nothing}}}}:\n",
       " [0.6432069524299069 nm ps⁻¹, 0.1511554932862201 nm ps⁻¹, 0.18585906760213375 nm ps⁻¹]\n",
       " [0.12502001848462413 nm ps⁻¹, 0.35833901582289274 nm ps⁻¹, -0.1510917682275864 nm ps⁻¹]\n",
       " [-0.03827529533536337 nm ps⁻¹, 0.22303381516076068 nm ps⁻¹, -0.12510967441678808 nm ps⁻¹]\n",
       " [-0.022452321660073174 nm ps⁻¹, 0.026035837965556124 nm ps⁻¹, -0.18897882043761027 nm ps⁻¹]\n",
       " [0.5049524819089367 nm ps⁻¹, -0.08712386817083827 nm ps⁻¹, 0.1321534687364663 nm ps⁻¹]\n",
       " [0.28538108912281934 nm ps⁻¹, 0.018839609209208245 nm ps⁻¹, 0.10986908340840072 nm ps⁻¹]\n",
       " [-0.11312455027282074 nm ps⁻¹, -0.047632826817721345 nm ps⁻¹, -0.06789613311504543 nm ps⁻¹]\n",
       " [-0.10508930266369625 nm ps⁻¹, -0.24068745887113954 nm ps⁻¹, 0.2044838155897348 nm ps⁻¹]\n",
       " [-0.3218976121813007 nm ps⁻¹, 0.028756368645607166 nm ps⁻¹, 0.05967133448761617 nm ps⁻¹]\n",
       " [-0.16441358579390697 nm ps⁻¹, 0.15905855180733625 nm ps⁻¹, 0.16080296362815463 nm ps⁻¹]\n",
       " ⋮\n",
       " [-0.01314579950643026 nm ps⁻¹, -0.1700681807690454 nm ps⁻¹, 0.28571199251249324 nm ps⁻¹]\n",
       " [-0.060108675058975505 nm ps⁻¹, -0.05354489700124486 nm ps⁻¹, -0.2836241035503873 nm ps⁻¹]\n",
       " [0.003650886247330204 nm ps⁻¹, -0.03583539557209275 nm ps⁻¹, -0.07860905517638803 nm ps⁻¹]\n",
       " [0.09841017045031525 nm ps⁻¹, -0.048300943485631846 nm ps⁻¹, -0.18704102129105035 nm ps⁻¹]\n",
       " [0.11350650481894009 nm ps⁻¹, 0.09932015686929763 nm ps⁻¹, -0.23601457913178564 nm ps⁻¹]\n",
       " [0.1604809076267365 nm ps⁻¹, 0.11167604121988983 nm ps⁻¹, 0.21225696118622062 nm ps⁻¹]\n",
       " [0.21338135209323272 nm ps⁻¹, 0.05397725531771659 nm ps⁻¹, 0.01886677144941338 nm ps⁻¹]\n",
       " [-0.10453956233214505 nm ps⁻¹, 0.1796622705829042 nm ps⁻¹, -0.1575978500736009 nm ps⁻¹]\n",
       " [-0.26438994252921477 nm ps⁻¹, 0.18830549631315632 nm ps⁻¹, -0.343297594490138 nm ps⁻¹]"
      ]
     },
     "metadata": {},
     "output_type": "display_data"
    }
   ],
   "source": [
    "temp = 50.0u\"K\"\n",
    "velocities = [velocity(atom_mass,temp) for i in 1:n_atoms]"
   ]
  },
  {
   "cell_type": "code",
   "execution_count": 35,
   "metadata": {},
   "outputs": [
    {
     "data": {
      "text/plain": [
       "(InteractionList2Atoms{Vector{HarmonicBond{Quantity{Int64, 𝐌 𝐍⁻¹ 𝐓⁻², Unitful.FreeUnits{(kJ, nm⁻², mol⁻¹), 𝐌 𝐍⁻¹ 𝐓⁻², nothing}}, Quantity{Float64, 𝐋, Unitful.FreeUnits{(nm,), 𝐋, nothing}}}}}([1, 2, 3, 4, 5, 6, 7, 8, 9, 10  …  91, 92, 93, 94, 95, 96, 97, 98, 99, 100], [101, 102, 103, 104, 105, 106, 107, 108, 109, 110  …  191, 192, 193, 194, 195, 196, 197, 198, 199, 200], [\"\", \"\", \"\", \"\", \"\", \"\", \"\", \"\", \"\", \"\"  …  \"\", \"\", \"\", \"\", \"\", \"\", \"\", \"\", \"\", \"\"], HarmonicBond{Quantity{Int64, 𝐌 𝐍⁻¹ 𝐓⁻², Unitful.FreeUnits{(kJ, nm⁻², mol⁻¹), 𝐌 𝐍⁻¹ 𝐓⁻², nothing}}, Quantity{Float64, 𝐋, Unitful.FreeUnits{(nm,), 𝐋, nothing}}}[HarmonicBond{Quantity{Int64, 𝐌 𝐍⁻¹ 𝐓⁻², Unitful.FreeUnits{(kJ, nm⁻², mol⁻¹), 𝐌 𝐍⁻¹ 𝐓⁻², nothing}}, Quantity{Float64, 𝐋, Unitful.FreeUnits{(nm,), 𝐋, nothing}}}(300000 kJ nm⁻² mol⁻¹, 0.1 nm), HarmonicBond{Quantity{Int64, 𝐌 𝐍⁻¹ 𝐓⁻², Unitful.FreeUnits{(kJ, nm⁻², mol⁻¹), 𝐌 𝐍⁻¹ 𝐓⁻², nothing}}, Quantity{Float64, 𝐋, Unitful.FreeUnits{(nm,), 𝐋, nothing}}}(300000 kJ nm⁻² mol⁻¹, 0.1 nm), HarmonicBond{Quantity{Int64, 𝐌 𝐍⁻¹ 𝐓⁻², Unitful.FreeUnits{(kJ, nm⁻², mol⁻¹), 𝐌 𝐍⁻¹ 𝐓⁻², nothing}}, Quantity{Float64, 𝐋, Unitful.FreeUnits{(nm,), 𝐋, nothing}}}(300000 kJ nm⁻² mol⁻¹, 0.1 nm), HarmonicBond{Quantity{Int64, 𝐌 𝐍⁻¹ 𝐓⁻², Unitful.FreeUnits{(kJ, nm⁻², mol⁻¹), 𝐌 𝐍⁻¹ 𝐓⁻², nothing}}, Quantity{Float64, 𝐋, Unitful.FreeUnits{(nm,), 𝐋, nothing}}}(300000 kJ nm⁻² mol⁻¹, 0.1 nm), HarmonicBond{Quantity{Int64, 𝐌 𝐍⁻¹ 𝐓⁻², Unitful.FreeUnits{(kJ, nm⁻², mol⁻¹), 𝐌 𝐍⁻¹ 𝐓⁻², nothing}}, Quantity{Float64, 𝐋, Unitful.FreeUnits{(nm,), 𝐋, nothing}}}(300000 kJ nm⁻² mol⁻¹, 0.1 nm), HarmonicBond{Quantity{Int64, 𝐌 𝐍⁻¹ 𝐓⁻², Unitful.FreeUnits{(kJ, nm⁻², mol⁻¹), 𝐌 𝐍⁻¹ 𝐓⁻², nothing}}, Quantity{Float64, 𝐋, Unitful.FreeUnits{(nm,), 𝐋, nothing}}}(300000 kJ nm⁻² mol⁻¹, 0.1 nm), HarmonicBond{Quantity{Int64, 𝐌 𝐍⁻¹ 𝐓⁻², Unitful.FreeUnits{(kJ, nm⁻², mol⁻¹), 𝐌 𝐍⁻¹ 𝐓⁻², nothing}}, Quantity{Float64, 𝐋, Unitful.FreeUnits{(nm,), 𝐋, nothing}}}(300000 kJ nm⁻² mol⁻¹, 0.1 nm), HarmonicBond{Quantity{Int64, 𝐌 𝐍⁻¹ 𝐓⁻², Unitful.FreeUnits{(kJ, nm⁻², mol⁻¹), 𝐌 𝐍⁻¹ 𝐓⁻², nothing}}, Quantity{Float64, 𝐋, Unitful.FreeUnits{(nm,), 𝐋, nothing}}}(300000 kJ nm⁻² mol⁻¹, 0.1 nm), HarmonicBond{Quantity{Int64, 𝐌 𝐍⁻¹ 𝐓⁻², Unitful.FreeUnits{(kJ, nm⁻², mol⁻¹), 𝐌 𝐍⁻¹ 𝐓⁻², nothing}}, Quantity{Float64, 𝐋, Unitful.FreeUnits{(nm,), 𝐋, nothing}}}(300000 kJ nm⁻² mol⁻¹, 0.1 nm), HarmonicBond{Quantity{Int64, 𝐌 𝐍⁻¹ 𝐓⁻², Unitful.FreeUnits{(kJ, nm⁻², mol⁻¹), 𝐌 𝐍⁻¹ 𝐓⁻², nothing}}, Quantity{Float64, 𝐋, Unitful.FreeUnits{(nm,), 𝐋, nothing}}}(300000 kJ nm⁻² mol⁻¹, 0.1 nm)  …  HarmonicBond{Quantity{Int64, 𝐌 𝐍⁻¹ 𝐓⁻², Unitful.FreeUnits{(kJ, nm⁻², mol⁻¹), 𝐌 𝐍⁻¹ 𝐓⁻², nothing}}, Quantity{Float64, 𝐋, Unitful.FreeUnits{(nm,), 𝐋, nothing}}}(300000 kJ nm⁻² mol⁻¹, 0.1 nm), HarmonicBond{Quantity{Int64, 𝐌 𝐍⁻¹ 𝐓⁻², Unitful.FreeUnits{(kJ, nm⁻², mol⁻¹), 𝐌 𝐍⁻¹ 𝐓⁻², nothing}}, Quantity{Float64, 𝐋, Unitful.FreeUnits{(nm,), 𝐋, nothing}}}(300000 kJ nm⁻² mol⁻¹, 0.1 nm), HarmonicBond{Quantity{Int64, 𝐌 𝐍⁻¹ 𝐓⁻², Unitful.FreeUnits{(kJ, nm⁻², mol⁻¹), 𝐌 𝐍⁻¹ 𝐓⁻², nothing}}, Quantity{Float64, 𝐋, Unitful.FreeUnits{(nm,), 𝐋, nothing}}}(300000 kJ nm⁻² mol⁻¹, 0.1 nm), HarmonicBond{Quantity{Int64, 𝐌 𝐍⁻¹ 𝐓⁻², Unitful.FreeUnits{(kJ, nm⁻², mol⁻¹), 𝐌 𝐍⁻¹ 𝐓⁻², nothing}}, Quantity{Float64, 𝐋, Unitful.FreeUnits{(nm,), 𝐋, nothing}}}(300000 kJ nm⁻² mol⁻¹, 0.1 nm), HarmonicBond{Quantity{Int64, 𝐌 𝐍⁻¹ 𝐓⁻², Unitful.FreeUnits{(kJ, nm⁻², mol⁻¹), 𝐌 𝐍⁻¹ 𝐓⁻², nothing}}, Quantity{Float64, 𝐋, Unitful.FreeUnits{(nm,), 𝐋, nothing}}}(300000 kJ nm⁻² mol⁻¹, 0.1 nm), HarmonicBond{Quantity{Int64, 𝐌 𝐍⁻¹ 𝐓⁻², Unitful.FreeUnits{(kJ, nm⁻², mol⁻¹), 𝐌 𝐍⁻¹ 𝐓⁻², nothing}}, Quantity{Float64, 𝐋, Unitful.FreeUnits{(nm,), 𝐋, nothing}}}(300000 kJ nm⁻² mol⁻¹, 0.1 nm), HarmonicBond{Quantity{Int64, 𝐌 𝐍⁻¹ 𝐓⁻², Unitful.FreeUnits{(kJ, nm⁻², mol⁻¹), 𝐌 𝐍⁻¹ 𝐓⁻², nothing}}, Quantity{Float64, 𝐋, Unitful.FreeUnits{(nm,), 𝐋, nothing}}}(300000 kJ nm⁻² mol⁻¹, 0.1 nm), HarmonicBond{Quantity{Int64, 𝐌 𝐍⁻¹ 𝐓⁻², Unitful.FreeUnits{(kJ, nm⁻², mol⁻¹), 𝐌 𝐍⁻¹ 𝐓⁻², nothing}}, Quantity{Float64, 𝐋, Unitful.FreeUnits{(nm,), 𝐋, nothing}}}(300000 kJ nm⁻² mol⁻¹, 0.1 nm), HarmonicBond{Quantity{Int64, 𝐌 𝐍⁻¹ 𝐓⁻², Unitful.FreeUnits{(kJ, nm⁻², mol⁻¹), 𝐌 𝐍⁻¹ 𝐓⁻², nothing}}, Quantity{Float64, 𝐋, Unitful.FreeUnits{(nm,), 𝐋, nothing}}}(300000 kJ nm⁻² mol⁻¹, 0.1 nm), HarmonicBond{Quantity{Int64, 𝐌 𝐍⁻¹ 𝐓⁻², Unitful.FreeUnits{(kJ, nm⁻², mol⁻¹), 𝐌 𝐍⁻¹ 𝐓⁻², nothing}}, Quantity{Float64, 𝐋, Unitful.FreeUnits{(nm,), 𝐋, nothing}}}(300000 kJ nm⁻² mol⁻¹, 0.1 nm)]),)"
      ]
     },
     "metadata": {},
     "output_type": "display_data"
    }
   ],
   "source": [
    "bonds = InteractionList2Atoms(\n",
    "        collect(1:(n_atoms ÷ 2)), # first atom indices\n",
    "        collect((1 + (n_atoms ÷ 2) ):n_atoms), # second atom indices \n",
    "        repeat([\"\"], n_atoms ÷ 2),\n",
    "        [HarmonicBond(k=300_000u\"kJ * mol^-1 * nm^-2\", r0=0.1u\"nm\") for i in 1:(n_atoms ÷ 2 )],\n",
    ")\n",
    "\n",
    "specific_inter_lists = (bonds,)\n"
   ]
  },
  {
   "cell_type": "code",
   "execution_count": 36,
   "metadata": {},
   "outputs": [
    {
     "data": {
      "text/plain": [
       "(LennardJones{false, DistanceCutoff{Quantity{Float64, 𝐋, Unitful.FreeUnits{(nm,), 𝐋, nothing}}, Quantity{Float64, 𝐋², Unitful.FreeUnits{(nm²,), 𝐋², nothing}}, Quantity{Float64, 𝐋⁻², Unitful.FreeUnits{(nm⁻²,), 𝐋⁻², nothing}}}, Int64, Int64, Unitful.FreeUnits{(kJ, nm⁻¹, mol⁻¹), 𝐋 𝐌 𝐍⁻¹ 𝐓⁻², nothing}, Unitful.FreeUnits{(kJ, mol⁻¹), 𝐋² 𝐌 𝐍⁻¹ 𝐓⁻², nothing}}(DistanceCutoff{Quantity{Float64, 𝐋, Unitful.FreeUnits{(nm,), 𝐋, nothing}}, Quantity{Float64, 𝐋², Unitful.FreeUnits{(nm²,), 𝐋², nothing}}, Quantity{Float64, 𝐋⁻², Unitful.FreeUnits{(nm⁻²,), 𝐋⁻², nothing}}}(1.2 nm, 1.44 nm², 0.6944444444444444 nm⁻²), true, true, 1, 1, kJ nm⁻¹ mol⁻¹, kJ mol⁻¹),)"
      ]
     },
     "metadata": {},
     "output_type": "display_data"
    }
   ],
   "source": [
    "nb_matrix = trues(n_atoms, n_atoms)\n",
    "for i in 1:(n_atoms ÷ 2)\n",
    "    nb_matrix[i,i+(n_atoms ÷ 2)] = false\n",
    "    nb_matrix[i+(n_atoms ÷ 2),i] = false\n",
    "end\n",
    "\n",
    "neighbor_finder = DistanceNeighborFinder(\n",
    "                nb_matrix = nb_matrix,\n",
    "                n_steps = 10,\n",
    "                dist_cutoff=1.5u\"nm\",\n",
    ")\n",
    "\n",
    "pairwise_inters = (LennardJones(nl_only=true, cutoff=DistanceCutoff(1.2u\"nm\")),)"
   ]
  },
  {
   "cell_type": "code",
   "execution_count": 37,
   "metadata": {},
   "outputs": [
    {
     "data": {
      "text/plain": [
       "System with 200 atoms, boundary CubicBoundary{Quantity{Float64, 𝐋, Unitful.FreeUnits{(nm,), 𝐋, nothing}}}(Quantity{Float64, 𝐋, Unitful.FreeUnits{(nm,), 𝐋, nothing}}[4.0 nm, 4.0 nm, 4.0 nm])"
      ]
     },
     "metadata": {},
     "output_type": "display_data"
    }
   ],
   "source": [
    "sys = System(\n",
    "    atoms=atoms,\n",
    "    pairwise_inters=pairwise_inters,\n",
    "    specific_inter_lists=specific_inter_lists,\n",
    "    coords=coords,\n",
    "    velocities=velocities,\n",
    "    boundary=boundary,\n",
    "    neighbor_finder=neighbor_finder,\n",
    "    loggers=(\n",
    "        temp=TemperatureLogger(10),\n",
    "        coords=CoordinateLogger(10),\n",
    "    )\n",
    ")"
   ]
  },
  {
   "cell_type": "code",
   "execution_count": 38,
   "metadata": {},
   "outputs": [
    {
     "data": {
      "text/plain": [
       "VelocityVerlet{Quantity{Float64, 𝐓, Unitful.FreeUnits{(ps,), 𝐓, nothing}}, AndersenThermostat{Quantity{Float64, 𝚯, Unitful.FreeUnits{(K,), 𝚯, nothing}}, Quantity{Float64, 𝐓, Unitful.FreeUnits{(ps,), 𝐓, nothing}}}}(0.002 ps, AndersenThermostat{Quantity{Float64, 𝚯, Unitful.FreeUnits{(K,), 𝚯, nothing}}, Quantity{Float64, 𝐓, Unitful.FreeUnits{(ps,), 𝐓, nothing}}}(50.0 K, 1.0 ps), true)"
      ]
     },
     "metadata": {},
     "output_type": "display_data"
    }
   ],
   "source": [
    "simulator = VelocityVerlet(\n",
    "        dt=0.002u\"ps\",\n",
    "        coupling = AndersenThermostat(temp, 1.0u\"ps\"),\n",
    ")"
   ]
  },
  {
   "cell_type": "code",
   "execution_count": 39,
   "metadata": {},
   "outputs": [
    {
     "data": {
      "text/plain": [
       "System with 200 atoms, boundary CubicBoundary{Quantity{Float64, 𝐋, Unitful.FreeUnits{(nm,), 𝐋, nothing}}}(Quantity{Float64, 𝐋, Unitful.FreeUnits{(nm,), 𝐋, nothing}}[4.0 nm, 4.0 nm, 4.0 nm])"
      ]
     },
     "metadata": {},
     "output_type": "display_data"
    }
   ],
   "source": [
    "simulate!(sys,simulator,5_000)"
   ]
  },
  {
   "cell_type": "code",
   "execution_count": 40,
   "metadata": {},
   "outputs": [
    {
     "data": {
      "text/plain": [
       "\"sim_diatomic.mp4\""
      ]
     },
     "metadata": {},
     "output_type": "display_data"
    }
   ],
   "source": [
    "visualize(\n",
    "    sys.loggers.coords,\n",
    "    boundary,\n",
    "    \"sim_diatomic.mp4\",\n",
    "    connections=[(i,i+(n_atoms÷2)) for i in 1:(n_atoms ÷ 2)]\n",
    ")"
   ]
  },
  {
   "attachments": {},
   "cell_type": "markdown",
   "metadata": {},
   "source": [
    "They move kinda weird tbh. "
   ]
  }
 ],
 "metadata": {
  "kernelspec": {
   "display_name": "Julia 1.8.5",
   "language": "julia",
   "name": "julia-1.8"
  },
  "language_info": {
   "file_extension": ".jl",
   "mimetype": "application/julia",
   "name": "julia",
   "version": "1.8.5"
  },
  "orig_nbformat": 4
 },
 "nbformat": 4,
 "nbformat_minor": 2
}
